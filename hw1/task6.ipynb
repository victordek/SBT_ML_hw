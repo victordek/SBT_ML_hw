{
 "cells": [
  {
   "cell_type": "markdown",
   "metadata": {},
   "source": [
    "# Теоритические задачи"
   ]
  },
  {
   "cell_type": "markdown",
   "metadata": {},
   "source": [
    "## 6.1 Наивный байес и центроидный классификатор\n",
    "\n",
    "По условию (Байесовский наивный классификатор с заданной условной вероятностью):\n",
    "$$a(x) = argmax_yP(y)P(x|y)= argmax_yP(y)\\prod^n_{k=1}P(x^{(k)}|y) =argmax_yP(y)\\prod^n_{k=1}\\frac{1}{\\sqrt{2\\pi\\sigma^2}}e^{-\\frac{\\left(x^{(k)}-\\mu_y^{(k)}\\right)^2}{2\\sigma^2}}$$"
   ]
  },
  {
   "cell_type": "markdown",
   "metadata": {},
   "source": [
    "Прологорифмируем и отбросим константы:\n",
    "\n",
    "$$argmax_y\\sum^{n}_{k=1}\\log\\frac{1}{\\sqrt{2\\pi\\sigma^2}}e^{-\\frac{\\left(x^{(k)}-\\mu_y^{(k)}\\right)^2}{2\\sigma^2}}\\rightarrow argmax_y\\sum^{n}_{k=1}{-{\\left(x^{(k)}-\\mu_y^{(k)}\\right)^2}}\\rightarrow argmin_y \\sum^{n}_{k=1}{\\left(x^{(k)}-\\mu_y^{(k)}\\right)^2}$$"
   ]
  },
  {
   "cell_type": "markdown",
   "metadata": {},
   "source": [
    "Но последнее - является квадратом расстояния до одного из центроидов $\\mu_y$, а $argmin_y$ выбирает $y$, соответствующий наиближайшему к $x$ центроиду.\n",
    "\n",
    "Что и требовалось показать"
   ]
  },
  {
   "cell_type": "markdown",
   "metadata": {},
   "source": [
    "## 6.2 ROC-AUC случайных ответов\n",
    "Введем обозначения: $p$ - вероятность класса 1 в классификаторе, $d$ - доля класса 1.\n",
    "\n",
    "Тогда мы получим следующие оценки долей (для стат значимой выборки):\n",
    "\n",
    "$P(TP) = pd$\n",
    "\n",
    "$P(TN) = (1 - p)(1 - d)$\n",
    "\n",
    "$P(FP) = (1 - p)d$\n",
    "\n",
    "$P(FN) = p(1 - d)$\n",
    "\n"
   ]
  },
  {
   "cell_type": "markdown",
   "metadata": {},
   "source": [
    "Посчитаем $TPR$ и $FPR$ в предположении, что число объектов в рассматриваемой выборке $N$ велико:\n",
    "\n",
    "$TPR = \\frac{TP}{TP + FN} = \\frac{Npd}{Npd + Np(1-d)} = d$\n",
    "\n",
    "$FPR = \\frac{FP}{FP + TN} = \\frac{Np(1-d)}{Np(1-d) + N(1-p)(1-d)} = d$\n",
    "\n",
    "Таким образом мы получим следующее построение:\n",
    "\n",
    "(0,0) - отнесение всех точек к нулевому классу\n",
    "\n",
    "(d,d) - классификация (точка на диагонали)\n",
    "\n",
    "(1,1) - отнесение всех точек к классу 1\n",
    "\n",
    "То есть диагональ с поправкой на случайные отклонения. Площадь (ROC-AUC) = 0.5"
   ]
  }
 ],
 "metadata": {
  "kernelspec": {
   "display_name": "Python 3",
   "language": "python",
   "name": "python3"
  },
  "language_info": {
   "codemirror_mode": {
    "name": "ipython",
    "version": 3
   },
   "file_extension": ".py",
   "mimetype": "text/x-python",
   "name": "python",
   "nbconvert_exporter": "python",
   "pygments_lexer": "ipython3",
   "version": "3.6.1"
  }
 },
 "nbformat": 4,
 "nbformat_minor": 2
}
