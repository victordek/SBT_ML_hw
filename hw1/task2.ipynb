{
 "cells": [
  {
   "cell_type": "code",
   "execution_count": 1,
   "metadata": {
    "collapsed": true
   },
   "outputs": [],
   "source": [
    "# Минимальная совместимость с 2.7\n",
    "from __future__ import division, print_function\n",
    "# отключение предупрждений Anaconda\n",
    "import warnings\n",
    "warnings.filterwarnings('ignore')"
   ]
  },
  {
   "cell_type": "code",
   "execution_count": 2,
   "metadata": {
    "collapsed": true
   },
   "outputs": [],
   "source": [
    "from sklearn.datasets import load_breast_cancer, load_digits\n",
    "from sklearn.model_selection import cross_val_score\n",
    "from sklearn.naive_bayes import BernoulliNB, MultinomialNB, GaussianNB"
   ]
  },
  {
   "cell_type": "code",
   "execution_count": 12,
   "metadata": {},
   "outputs": [],
   "source": [
    "def proceed_task2(dataset_loader):\n",
    "    '''Loading dataset and crossvalidating naive_bayes classifiers'''\n",
    "    data, target = dataset_loader(return_X_y=True)\n",
    "    \n",
    "    for classificator, name in zip([BernoulliNB, MultinomialNB, GaussianNB],\n",
    "                                   ['BernoulliNB', 'MultinomialNB', 'GaussianNB']):\n",
    "        print ('Best result for %s:\\t%.3f' %(name, round(cross_val_score(classificator(),\n",
    "                                                                        X=data,\n",
    "                                                                        y=target,\n",
    "                                                                        n_jobs=-1).mean(),\n",
    "                                                        3)))"
   ]
  },
  {
   "cell_type": "code",
   "execution_count": 27,
   "metadata": {},
   "outputs": [
    {
     "name": "stdout",
     "output_type": "stream",
     "text": [
      "First object from digits dataset:\n",
      "[  0.   0.   5.  13.   9.   1.   0.   0.   0.   0.  13.  15.  10.  15.   5.\n",
      "   0.   0.   3.  15.   2.   0.  11.   8.   0.   0.   4.  12.   0.   0.   8.\n",
      "   8.   0.   0.   5.   8.   0.   0.   9.   8.   0.   0.   4.  11.   0.   1.\n",
      "  12.   7.   0.   0.   2.  14.   5.  10.  12.   0.   0.   0.   0.   6.  13.\n",
      "  10.   0.   0.   0.]\n",
      "\n",
      "Best result for BernoulliNB:\t0.826\n",
      "Best result for MultinomialNB:\t0.871\n",
      "Best result for GaussianNB:\t0.819\n"
     ]
    }
   ],
   "source": [
    "#digits\n",
    "print ('First object from digits dataset:', load_digits().data[0],sep='\\n', end='\\n\\n')\n",
    "\n",
    "proceed_task2(load_digits)"
   ]
  },
  {
   "cell_type": "code",
   "execution_count": 30,
   "metadata": {},
   "outputs": [
    {
     "name": "stdout",
     "output_type": "stream",
     "text": [
      "First object from breast_canser dataset:\n",
      "[  1.79900000e+01   1.03800000e+01   1.22800000e+02   1.00100000e+03\n",
      "   1.18400000e-01   2.77600000e-01   3.00100000e-01   1.47100000e-01\n",
      "   2.41900000e-01   7.87100000e-02   1.09500000e+00   9.05300000e-01\n",
      "   8.58900000e+00   1.53400000e+02   6.39900000e-03   4.90400000e-02\n",
      "   5.37300000e-02   1.58700000e-02   3.00300000e-02   6.19300000e-03\n",
      "   2.53800000e+01   1.73300000e+01   1.84600000e+02   2.01900000e+03\n",
      "   1.62200000e-01   6.65600000e-01   7.11900000e-01   2.65400000e-01\n",
      "   4.60100000e-01   1.18900000e-01]\n",
      "\n",
      "Best result for BernoulliNB:\t0.627\n",
      "Best result for MultinomialNB:\t0.895\n",
      "Best result for GaussianNB:\t0.937\n"
     ]
    }
   ],
   "source": [
    "#breast cancer\n",
    "print ('First object from breast_canser dataset:', load_breast_cancer().data[0],sep='\\n', end='\\n\\n')\n",
    "\n",
    "proceed_task2(load_breast_cancer)"
   ]
  },
  {
   "cell_type": "markdown",
   "metadata": {},
   "source": [
    "## Выводы:\n",
    "\n",
    "1) максимальное качество на **breast_canser** 0.937\n",
    "\n",
    "2) максимальное качество на **digits** 0.871\n",
    "\n",
    "3) c, d"
   ]
  }
 ],
 "metadata": {
  "kernelspec": {
   "display_name": "Python 3",
   "language": "python",
   "name": "python3"
  },
  "language_info": {
   "codemirror_mode": {
    "name": "ipython",
    "version": 3
   },
   "file_extension": ".py",
   "mimetype": "text/x-python",
   "name": "python",
   "nbconvert_exporter": "python",
   "pygments_lexer": "ipython3",
   "version": "3.6.1"
  }
 },
 "nbformat": 4,
 "nbformat_minor": 2
}
